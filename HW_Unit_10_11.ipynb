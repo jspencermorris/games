{
 "cells": [
  {
   "cell_type": "markdown",
   "metadata": {},
   "source": [
    "## Week 10 and 11 Assignment - DATASCI200 Introduction to Data Science Programming, UC Berkeley MIDS\n",
    "\n",
    "Write code in this Jupyter Notebook to solve the following problems. Please upload this **Notebook** with your solutions to your GitHub repository and provide a link in the last question in gradescope. \n",
    "\n",
    "Assignment due date: 11:59PM PT the night before the Week 12 Live Session. Do **NOT** push/upload the data file. "
   ]
  },
  {
   "cell_type": "markdown",
   "metadata": {},
   "source": [
    "## Objectives\n",
    "\n",
    "- Explore and glean insights from a real dataset using pandas\n",
    "- Practice using pandas for exploratory analysis, information gathering, and discovery\n",
    "- Practice cleaning data and answering questions"
   ]
  },
  {
   "cell_type": "markdown",
   "metadata": {},
   "source": [
    "## General Guidelines:\n",
    "\n",
    "- This is a **real** dataset and so it may contain errors and other pecularities to work through\n",
    "- This dataset is ~218mb, which will take some time to load (and probably won't load in Google Sheets or Excel)\n",
    "- If you make assumptions, annotate them in your responses\n",
    "- While there is one code/markdown cell positioned after each question as a placeholder, some of your code/responses may require multiple cells\n",
    "- Double-click the markdown cells that say for example **1a answer here:** to enter your written answers. If you need more cells for your written answers, make them markdown cells (rather than code cells)\n",
    "- This homework assignment is not autograded because of the variety of responses one could give. \n",
    "  - Please upload this notebook to the autograder page and the TAs will manually grade it. \n",
    "  - Ensure that each cell is run and outputs your answer for ease of grading! \n",
    "  - Highly suggest to do a `restart & run all` before uploading your code to ensure everything runs and outputs correctly.\n",
    "  - Answers without code (or code that runs) will be given 0 points.\n",
    "- **This is meant to simulate real world data so you will have to do some external research to determine what some of the answers are!** "
   ]
  },
  {
   "cell_type": "markdown",
   "metadata": {},
   "source": [
    "## Dataset\n",
    "\n",
    "You are to analyze campaign contributions to the 2016 U.S. presidential primary races made in California. Use the csv file located here: https://drive.google.com/file/d/1Lgg-PwXQ6TQLDowd6XyBxZw5g1NGWPjB/view?usp=sharing. You should download and save this file in the same folder as this notebook is stored.  This file originally came from the U.S. Federal Election Commission (https://www.fec.gov/).\n",
    "\n",
    "**DO NOT PUSH THIS FILE TO YOUR GITHUB REPO!**\n",
    "\n",
    "- Best practice is to not have DATA files in your code repo. As shown below, the default load is outside of the folder this notebook is in. If you change the folder where the file is stored please update the first cell!\n",
    "- If you do accidentally push the file to your github repo - follow the directions here to fix it: https://docs.google.com/document/d/15Irgb5V5G7pKPWgAerH7FPMpKeQRunbNflaW-hR2hTA/edit?usp=sharing\n",
    "\n",
    "Documentation for this data can be found here: https://drive.google.com/file/d/11o_SByceenv0NgNMstM-dxC1jL7I9fHL/view?usp=sharing"
   ]
  },
  {
   "cell_type": "markdown",
   "metadata": {},
   "source": [
    "## Data Questions\n",
    "\n",
    "You are working for a California state-wide election campaign. Your boss wants you to examine historic 2016 election contribution data to see what zipcodes are more supportive of fundraising for your candidate. \n",
    "\n",
    "Your boss asks you to filter out some of the records:\n",
    "- Only use primary 2016 contribution data (more like how your race is).\n",
    "- Concentrate on Bernie Sanders as a candidate (most a like your candidate)\n",
    "\n",
    "The questions your boss wants answered is:\n",
    "- Which zipcode (5-digit zipcode) had the highest count of contributions and the most dollar amount?\n",
    "- What day(s) of the month do most people donate?"
   ]
  },
  {
   "cell_type": "markdown",
   "metadata": {},
   "source": [
    "## Setup\n",
    "\n",
    "Run the cell below as it will load the data into a pandas dataframe named `contrib`. Note that a custom date parser is defined to speed up loading. If Python were to guess the date format, it would take even longer to load."
   ]
  },
  {
   "cell_type": "code",
   "execution_count": 1,
   "metadata": {},
   "outputs": [
    {
     "name": "stderr",
     "output_type": "stream",
     "text": [
      "C:\\Users\\jspen\\AppData\\Local\\Temp\\ipykernel_16732\\1692960448.py:16: DtypeWarning: Columns (6,11,12) have mixed types. Specify dtype option on import or set low_memory=False.\n",
      "  contrib = pd.read_csv('P00000001-CA.csv', index_col=False, parse_dates=['contb_receipt_dt'], date_parser=d)\n"
     ]
    }
   ],
   "source": [
    "import pandas as pd\n",
    "import numpy as np\n",
    "from datetime import datetime\n",
    "\n",
    "# These commands below set some options for pandas and to have matplotlib show the charts in the notebook\n",
    "pd.set_option('display.max_rows', 1000)\n",
    "pd.options.display.float_format = '{:,.2f}'.format\n",
    "#pd.set_option('display.max_rows', 100)\n",
    "#pd.set_option('display.width', 500)\n",
    "\n",
    "# Define a date parser to pass to read_csv\n",
    "d = lambda x: datetime.strptime(x, '%d-%b-%y')\n",
    "\n",
    "# Load the data\n",
    "# We have this defaulted to the folder OUTSIDE of your repo - please change it as needed\n",
    "contrib = pd.read_csv('P00000001-CA.csv', index_col=False, parse_dates=['contb_receipt_dt'], date_parser=d)\n",
    "\n",
    "# Note - for now, it is okay to ignore the warning about mixed types. "
   ]
  },
  {
   "cell_type": "markdown",
   "metadata": {},
   "source": [
    "***\n",
    "## 1. Initial Data Checks (50 points)\n",
    "\n",
    "First we will take a preliminary look at the data to check that it was loaded correctly and contains the info we need.\n",
    "\n",
    "The questions to answer at the end of this section:\n",
    "- Do we have the correct # of columns and rows. \n",
    "- Do the records contain data for the questions we want to answer \n",
    "- What columns are important? \n",
    "- What columns can be dropped?\n",
    "- What are the data problems?"
   ]
  },
  {
   "cell_type": "markdown",
   "metadata": {},
   "source": [
    "**1a.** Print the *shape* of the data. Does this match the expectation? (2 points)"
   ]
  },
  {
   "cell_type": "code",
   "execution_count": 2,
   "metadata": {
    "deletable": false,
    "nbgrader": {
     "checksum": "9f7a7938e43b14d3c7c49d6a278b0bb1",
     "grade": true,
     "grade_id": "cell-5d017805206f18b1",
     "locked": false,
     "points": 0,
     "schema_version": 1,
     "solution": true
    }
   },
   "outputs": [
    {
     "name": "stdout",
     "output_type": "stream",
     "text": [
      "SHAPE:   (1125659, 18)\n"
     ]
    }
   ],
   "source": [
    "# 1a YOUR CODE HERE\n",
    "print('SHAPE:  ',contrib.shape)\n",
    "#print(contrib.head())"
   ]
  },
  {
   "attachments": {},
   "cell_type": "markdown",
   "metadata": {},
   "source": [
    "- **1a answer here:** \n",
    "The dataframe's shape indicates there are 18 columns and 1125659 rows.  The number of columns matches what would be expected from the dataset documentation, and the number of rows is reasonable."
   ]
  },
  {
   "cell_type": "markdown",
   "metadata": {
    "deletable": false,
    "nbgrader": {
     "checksum": "e6a198453ec4b0171a064fef0bd7c678",
     "grade": true,
     "grade_id": "cell-3bc26919169bf4aa",
     "locked": false,
     "points": 5,
     "schema_version": 1,
     "solution": true
    }
   },
   "source": [
    "**1b.** Print a list of column names. Are all the columns included that are in the documentation? (2 points)"
   ]
  },
  {
   "cell_type": "code",
   "execution_count": 3,
   "metadata": {
    "deletable": false,
    "nbgrader": {
     "checksum": "4fbf682f1c78b3614832c6f48ecd88c7",
     "grade": true,
     "grade_id": "cell-72bc97601b84f17d",
     "locked": false,
     "points": 5,
     "schema_version": 1,
     "solution": true
    }
   },
   "outputs": [
    {
     "name": "stdout",
     "output_type": "stream",
     "text": [
      "Index(['cmte_id', 'cand_id', 'cand_nm', 'contbr_nm', 'contbr_city',\n",
      "       'contbr_st', 'contbr_zip', 'contbr_employer', 'contbr_occupation',\n",
      "       'contb_receipt_amt', 'contb_receipt_dt', 'receipt_desc', 'memo_cd',\n",
      "       'memo_text', 'form_tp', 'file_num', 'tran_id', 'election_tp'],\n",
      "      dtype='object')\n"
     ]
    }
   ],
   "source": [
    "# 1b YOUR CODE HERE\n",
    "print(contrib.columns)"
   ]
  },
  {
   "attachments": {},
   "cell_type": "markdown",
   "metadata": {},
   "source": [
    "- **1b answer here:** \n",
    "Yes, all columns specified in the documentation are found in the dataframe."
   ]
  },
  {
   "cell_type": "markdown",
   "metadata": {},
   "source": [
    "**1c** Print out the first five rows of the dataset. How do the columns `cand_id`, `cand_nm` and `contbr_st` look? (3 points)"
   ]
  },
  {
   "cell_type": "code",
   "execution_count": 4,
   "metadata": {},
   "outputs": [
    {
     "name": "stdout",
     "output_type": "stream",
     "text": [
      "     cmte_id    cand_id                  cand_nm          contbr_nm  \\\n",
      "0  C00575795  P00003392  Clinton, Hillary Rodham         AULL, ANNE   \n",
      "1  C00575795  P00003392  Clinton, Hillary Rodham  CARROLL, MARYJEAN   \n",
      "2  C00575795  P00003392  Clinton, Hillary Rodham   GANDARA, DESIREE   \n",
      "3  C00577130  P60007168         Sanders, Bernard          LEE, ALAN   \n",
      "4  C00577130  P60007168         Sanders, Bernard   LEONELLI, ODETTE   \n",
      "\n",
      "     contbr_city contbr_st     contbr_zip            contbr_employer  \\\n",
      "0       LARKSPUR        CA 949,391,913.00                        NaN   \n",
      "1        CAMBRIA        CA 934,284,638.00                        NaN   \n",
      "2        FONTANA        CA 923,371,507.00                        NaN   \n",
      "3      CAMARILLO        CA 930,111,214.00  AT&T GOVERNMENT SOLUTIONS   \n",
      "4  REDONDO BEACH        CA 902,784,310.00   VERICOR ENTERPRISES INC.   \n",
      "\n",
      "   contbr_occupation  contb_receipt_amt contb_receipt_dt receipt_desc memo_cd  \\\n",
      "0            RETIRED              50.00       2016-04-26          NaN       X   \n",
      "1            RETIRED             200.00       2016-04-20          NaN       X   \n",
      "2            RETIRED               5.00       2016-04-02          NaN       X   \n",
      "3  SOFTWARE ENGINEER              40.00       2016-03-04          NaN     NaN   \n",
      "4         PHARMACIST              35.00       2016-03-05          NaN     NaN   \n",
      "\n",
      "                             memo_text form_tp  file_num      tran_id  \\\n",
      "0               * HILLARY VICTORY FUND    SA18   1091718     C4768722   \n",
      "1               * HILLARY VICTORY FUND    SA18   1091718     C4747242   \n",
      "2               * HILLARY VICTORY FUND    SA18   1091718     C4666603   \n",
      "3  * EARMARKED CONTRIBUTION: SEE BELOW   SA17A   1077404  VPF7BKWA097   \n",
      "4  * EARMARKED CONTRIBUTION: SEE BELOW   SA17A   1077404  VPF7BKX3MB3   \n",
      "\n",
      "  election_tp  \n",
      "0       P2016  \n",
      "1       P2016  \n",
      "2       P2016  \n",
      "3       P2016  \n",
      "4       P2016  \n"
     ]
    }
   ],
   "source": [
    "# 1c YOUR CODE HERE\n",
    "print(contrib.head(5))"
   ]
  },
  {
   "attachments": {},
   "cell_type": "markdown",
   "metadata": {},
   "source": [
    "- **1c answer here:** \n",
    "The cand_id column appears to be an identifier uniquely associated with the cand_nm, which shows the candidate's surname first.  Elements in both columns appear reasoanble.  The contbr_st appears to be a two-character string for California, which is expected."
   ]
  },
  {
   "cell_type": "markdown",
   "metadata": {
    "deletable": false,
    "nbgrader": {
     "checksum": "0ec29a2cabd52709322d1cfd650babe7",
     "grade": true,
     "grade_id": "cell-23b51536d24c1645",
     "locked": false,
     "points": 0,
     "schema_version": 1,
     "solution": true
    }
   },
   "source": [
    "**1d.** Print out the values for the column `election_tp`. In your own words, based on the documentation, what information does the `election_tp` variable contain? Do the values in the column match the documentation? (3 points)"
   ]
  },
  {
   "cell_type": "code",
   "execution_count": 5,
   "metadata": {},
   "outputs": [
    {
     "data": {
      "text/plain": [
       "array(['P2016', 'G2016', nan, 'P2020'], dtype=object)"
      ]
     },
     "execution_count": 5,
     "metadata": {},
     "output_type": "execute_result"
    }
   ],
   "source": [
    "# 1d YOUR CODE HERE\n",
    "contrib['election_tp'].unique()"
   ]
  },
  {
   "attachments": {},
   "cell_type": "markdown",
   "metadata": {
    "deletable": false,
    "nbgrader": {
     "checksum": "cfa64002e64474584dc1442b5a39b460",
     "grade": true,
     "grade_id": "cell-8a320c2ff7c24d98",
     "locked": false,
     "points": 0,
     "schema_version": 1,
     "solution": true
    }
   },
   "source": [
    "- **1d answer here:** \n",
    "According to the documentation, the values in the column election_tp are indicative of the election for which the contribution was made, and include an election prefix followed by the year.  The unique values for this field include P2016 and G2016, which are expected and correspond to the primary and general elections in 2016.  However we also observe values nan and P2020, indicating the dataset includes contributions with missing election type data, as well as contributions for the 2020 primary, both of which should be excluded from the final analysis."
   ]
  },
  {
   "cell_type": "markdown",
   "metadata": {
    "deletable": false,
    "nbgrader": {
     "checksum": "442b24601da06376c43cbe6ef5c5348a",
     "grade": true,
     "grade_id": "cell-6a453219105384dd",
     "locked": false,
     "points": 0,
     "schema_version": 1,
     "solution": true
    }
   },
   "source": [
    "**1e.** Print out the datatypes for all of the columns. What are the datatypes for the `contbr_zip`, `contb_receipt_amt`, `contb_receipt_dt`? (5 points)"
   ]
  },
  {
   "cell_type": "code",
   "execution_count": 6,
   "metadata": {
    "deletable": false,
    "nbgrader": {
     "checksum": "c5a1b7f30648cced7269ccb9b1532bd6",
     "grade": true,
     "grade_id": "cell-90c49bd6471a3dc9",
     "locked": false,
     "points": 0,
     "schema_version": 1,
     "solution": true
    }
   },
   "outputs": [
    {
     "data": {
      "text/plain": [
       "cmte_id                      object\n",
       "cand_id                      object\n",
       "cand_nm                      object\n",
       "contbr_nm                    object\n",
       "contbr_city                  object\n",
       "contbr_st                    object\n",
       "contbr_zip                   object\n",
       "contbr_employer              object\n",
       "contbr_occupation            object\n",
       "contb_receipt_amt           float64\n",
       "contb_receipt_dt     datetime64[ns]\n",
       "receipt_desc                 object\n",
       "memo_cd                      object\n",
       "memo_text                    object\n",
       "form_tp                      object\n",
       "file_num                      int64\n",
       "tran_id                      object\n",
       "election_tp                  object\n",
       "dtype: object"
      ]
     },
     "execution_count": 6,
     "metadata": {},
     "output_type": "execute_result"
    }
   ],
   "source": [
    "# 1e YOUR CODE HERE\n",
    "contrib.dtypes"
   ]
  },
  {
   "attachments": {},
   "cell_type": "markdown",
   "metadata": {
    "deletable": false,
    "nbgrader": {
     "checksum": "60d3e303837e9603de5b96e32af7d806",
     "grade": true,
     "grade_id": "cell-447dc63eff8ebc5f",
     "locked": false,
     "points": 0,
     "schema_version": 1,
     "solution": true
    }
   },
   "source": [
    "- **1e answer here:** \n",
    "The contrib_zip column has an 'object' datatype which is unexpected as this field contain should contain zip codes, ideally as 5-digit integers.  The column contb_receipt_amt is float64 which is expected as this field contains values of currency, although float64 may be overkill and the column could optionally be converted to float32 to reduce memory requirements with no expected loss to data precision.  The column conb_receipt_dt is of datatype datetime64[ns] which is expected as this column the date of the contribution."
   ]
  },
  {
   "cell_type": "markdown",
   "metadata": {
    "collapsed": true,
    "deletable": false,
    "nbgrader": {
     "checksum": "20a71229316bf24a2ce62c52f72d8142",
     "grade": true,
     "grade_id": "cell-963603c5ed346a99",
     "locked": false,
     "points": 0,
     "schema_version": 1,
     "solution": true
    }
   },
   "source": [
    "**1f.** What columns have the most non-nulls?  Would you recommend to drop any columns based on the number of nulls? (5 points)"
   ]
  },
  {
   "cell_type": "code",
   "execution_count": 7,
   "metadata": {
    "deletable": false,
    "nbgrader": {
     "checksum": "426b589a9d6457f38381eb1c77678d4f",
     "grade": true,
     "grade_id": "cell-b6fc3f7c906c95a2",
     "locked": false,
     "points": 0,
     "schema_version": 1,
     "solution": true
    }
   },
   "outputs": [
    {
     "name": "stdout",
     "output_type": "stream",
     "text": [
      "\n",
      " cmte_id             0.00\n",
      "cand_id             0.00\n",
      "cand_nm             0.00\n",
      "contbr_nm           0.00\n",
      "contbr_city         0.00\n",
      "contbr_st           0.00\n",
      "contbr_zip          0.00\n",
      "contbr_employer     0.14\n",
      "contbr_occupation   0.01\n",
      "contb_receipt_amt   0.00\n",
      "contb_receipt_dt    0.00\n",
      "receipt_desc        0.99\n",
      "memo_cd             0.87\n",
      "memo_text           0.55\n",
      "form_tp             0.00\n",
      "file_num            0.00\n",
      "tran_id             0.00\n",
      "election_tp         0.00\n",
      "dtype: float64\n"
     ]
    }
   ],
   "source": [
    "# 1f YOUR CODE HERE\n",
    "#print(np.sum(~contrib.isnull()))\n",
    "print('\\n',np.sum(contrib.isnull())/len(contrib))"
   ]
  },
  {
   "attachments": {},
   "cell_type": "markdown",
   "metadata": {
    "collapsed": true,
    "deletable": false,
    "nbgrader": {
     "checksum": "81ebf2a2f96961b4464f6c35d2143427",
     "grade": true,
     "grade_id": "cell-bea2cf7a6fff8565",
     "locked": false,
     "points": 0,
     "schema_version": 1,
     "solution": true
    }
   },
   "source": [
    "- **1f answer here:** \n",
    "Most of the columns have a large number of non-nulls.  The following columns have over 10% of values as null:  contb_employer, receipt_desc, memo_cd, memo_text.  Based on our objectives, all of these columns can be excluded from the analysis.  A few of the zipcodes are also missing, and as this column is of interest to us, these rows may be dropped during the analysis."
   ]
  },
  {
   "cell_type": "markdown",
   "metadata": {},
   "source": [
    "**1g.** A column we know that we want to use is the cand_nm column.  From the documentation each candidate is a unique candidate id also. Check data quality of `cand_id` column to see if it matches `cand_nm` column. Specifically check to ensure our targetted candidate 'Bernard Sanders' always has the same cand_id throughout. Any issues with `cand_nm` matching `cand_id`? (5 points)"
   ]
  },
  {
   "cell_type": "code",
   "execution_count": 8,
   "metadata": {},
   "outputs": [
    {
     "data": {
      "text/plain": [
       "0"
      ]
     },
     "execution_count": 8,
     "metadata": {},
     "output_type": "execute_result"
    }
   ],
   "source": [
    "# 1g YOUR CODE HERE\n",
    "# return number of rows where the candidate id isn't the same candidate id as the first row, for a given candidate name\n",
    "candidate_name = 'Sanders, Bernard'\n",
    "candidate_id = contrib.loc[contrib[contrib['cand_nm']==candidate_name].index[0],'cand_id']\n",
    "len(contrib[ (contrib['cand_nm']==candidate_name) & (contrib['cand_id']!=candidate_id) ])"
   ]
  },
  {
   "cell_type": "markdown",
   "metadata": {},
   "source": [
    "- **1g answer here:** \n",
    "There are no Sanders records where there's a mismatch between the cand_nm and cand_id columns."
   ]
  },
  {
   "cell_type": "markdown",
   "metadata": {},
   "source": [
    "**1h.** Another area to check is to make sure all of the records are from California. Check the `contbr_st` column - are there any records outside of California based on `contbr_st`? (5 points)"
   ]
  },
  {
   "cell_type": "code",
   "execution_count": 9,
   "metadata": {},
   "outputs": [
    {
     "name": "stdout",
     "output_type": "stream",
     "text": [
      "['CA']\n"
     ]
    }
   ],
   "source": [
    "# 1h YOUR CODE HERE\n",
    "#len(contrib[ contrib['contbr_st'] != 'CA' ])\n",
    "print(contrib['contbr_st'].unique())"
   ]
  },
  {
   "attachments": {},
   "cell_type": "markdown",
   "metadata": {},
   "source": [
    "- **1h answer here:** \n",
    "There are no records of contributers from outside of California."
   ]
  },
  {
   "cell_type": "markdown",
   "metadata": {},
   "source": [
    "**1i.** The next column to check for the analysis is the `tran_id` column. This column could be the primary key so look for duplicates. How many duplicate entries are there? Any pattern for why are there duplicate entries? (5 points)"
   ]
  },
  {
   "cell_type": "code",
   "execution_count": 10,
   "metadata": {},
   "outputs": [
    {
     "name": "stdout",
     "output_type": "stream",
     "text": [
      "False\n",
      "6873\n",
      "        cmte_id    cand_id                    cand_nm              contbr_nm  \\\n",
      "57    C00575795  P00003392    Clinton, Hillary Rodham        SANMUKH, BHAKTA   \n",
      "90    C00575795  P00003392    Clinton, Hillary Rodham        ROBERT, MONKMAN   \n",
      "91    C00575795  P00003392    Clinton, Hillary Rodham        DOROTHY, FIEGER   \n",
      "174   C00574624  P60006111  Cruz, Rafael Edward 'Ted'        MORENO, KENNETH   \n",
      "175   C00574624  P60006111  Cruz, Rafael Edward 'Ted'  NOWAKOWSKI, HENRY MR.   \n",
      "197   C00575795  P00003392    Clinton, Hillary Rodham       JOHN, FROITZHEIM   \n",
      "433   C00575795  P00003392    Clinton, Hillary Rodham          MAGID, DANIEL   \n",
      "676   C00575795  P00003392    Clinton, Hillary Rodham        DIANE, HAVENNER   \n",
      "740   C00575795  P00003392    Clinton, Hillary Rodham              PAUL, GEE   \n",
      "743   C00575795  P00003392    Clinton, Hillary Rodham         PINKEL, MARITA   \n",
      "886   C00575795  P00003392    Clinton, Hillary Rodham       THOMAS, HALLINAN   \n",
      "1050  C00575795  P00003392    Clinton, Hillary Rodham          LYON, DOROTHY   \n",
      "1090  C00575795  P00003392    Clinton, Hillary Rodham         ROBERT, BROOKS   \n",
      "1097  C00575795  P00003392    Clinton, Hillary Rodham       RISEDOPRH, RALPH   \n",
      "1159  C00575795  P00003392    Clinton, Hillary Rodham         FISHEL, STEVEN   \n",
      "1178  C00575795  P00003392    Clinton, Hillary Rodham         DAVID, RICHMAN   \n",
      "1227  C00574624  P60006111  Cruz, Rafael Edward 'Ted'      LIU, HSIU JU TENG   \n",
      "1237  C00575795  P00003392    Clinton, Hillary Rodham         ATWATER, VIOLA   \n",
      "1250  C00575795  P00003392    Clinton, Hillary Rodham         ROBIN, AFFRIME   \n",
      "1251  C00575795  P00003392    Clinton, Hillary Rodham         MARIA, RAYGOZA   \n",
      "\n",
      "         contbr_city contbr_st     contbr_zip            contbr_employer  \\\n",
      "57         SAN DIMAS        CA 917,733,736.00                        NaN   \n",
      "90           FREMONT        CA 945,365,810.00                   ARM, INC   \n",
      "91     SPRING VALLEY        CA 919,775,125.00                  U.S. NAVY   \n",
      "174         OAK VIEW        CA 930,229,619.00              SELF EMPLOYED   \n",
      "175          ANAHEIM        CA 928,065,615.00                    RETIRED   \n",
      "197       SAN RAFAEL        CA 949,032,307.00                        NaN   \n",
      "433         BERKELEY        CA 947,071,922.00      INFORMATION REQUESTED   \n",
      "676    REDONDO BEACH        CA      90,277.00                        NaN   \n",
      "740    SAN FRANCISCO        CA 941,161,401.00                        NaN   \n",
      "743       S PASADENA        CA 910,303,062.00      INFORMATION REQUESTED   \n",
      "886          OAKDALE        CA 953,613,450.00                    RETIRED   \n",
      "1050         TARZANA        CA 913,561,023.00      INFORMATION REQUESTED   \n",
      "1090          CARMEL        CA 939,216,614.00                    RETIRED   \n",
      "1097          MALIBU        CA 902,654,077.00      INFORMATION REQUESTED   \n",
      "1159          OXNARD        CA 930,365,360.00      INFORMATION REQUESTED   \n",
      "1178      CARMICHAEL        CA 956,086,208.00   UNIVERSITY OF CALIFORNIA   \n",
      "1227          FRESNO        CA 937,111,383.00        FRESNO CITY COLLEGE   \n",
      "1237  EAST PALO ALTO        CA 943,031,625.00      INFORMATION REQUESTED   \n",
      "1250           DAVIS        CA 956,160,453.00  COMMUNICARE HEALTH CENTER   \n",
      "1251     LOS ANGELES        CA 900,263,323.00              SELF-EMPLOYED   \n",
      "\n",
      "             contbr_occupation  contb_receipt_amt contb_receipt_dt  \\\n",
      "57                     RETIRED             151.00       2016-03-31   \n",
      "90           MARKETING MANAGER             300.00       2016-03-31   \n",
      "91                     RETIRED             100.00       2016-03-31   \n",
      "174     INDEPENDENT CONTRACTOR              35.00       2016-04-12   \n",
      "175                    RETIRED               5.00       2016-04-06   \n",
      "197                    RETIRED              20.00       2016-03-31   \n",
      "433      INFORMATION REQUESTED           1,000.00       2016-04-28   \n",
      "676                    RETIRED             230.00       2016-03-31   \n",
      "740                    RETIRED             200.00       2016-03-31   \n",
      "743      INFORMATION REQUESTED              50.00       2016-04-04   \n",
      "886                   ATTORNEY             115.00       2016-03-31   \n",
      "1050     INFORMATION REQUESTED              60.00       2016-04-04   \n",
      "1090                  EDUCATOR             150.00       2016-03-31   \n",
      "1097     INFORMATION REQUESTED             100.00       2016-04-05   \n",
      "1159     INFORMATION REQUESTED             200.00       2016-04-18   \n",
      "1178  MEDICAL SCHOOL PROFESSOR             500.00       2016-03-31   \n",
      "1227                   TEACHER             250.00       2016-04-28   \n",
      "1237     INFORMATION REQUESTED             150.00       2016-04-04   \n",
      "1250                       CEO             200.00       2016-03-31   \n",
      "1251                TRANSLATOR             500.00       2016-03-31   \n",
      "\n",
      "                                 receipt_desc memo_cd  \\\n",
      "57                                        NaN       X   \n",
      "90                                        NaN       X   \n",
      "91                                        NaN       X   \n",
      "174                                       NaN     NaN   \n",
      "175                                       NaN     NaN   \n",
      "197                                       NaN       X   \n",
      "433                                       NaN       X   \n",
      "676                                       NaN       X   \n",
      "740                                       NaN       X   \n",
      "743                                       NaN       X   \n",
      "886                                       NaN       X   \n",
      "1050                                      NaN       X   \n",
      "1090                                      NaN       X   \n",
      "1097                                      NaN       X   \n",
      "1159                                      NaN       X   \n",
      "1178                                      NaN       X   \n",
      "1227  REATTRIBUTION / REDESIGNATION REQUESTED     NaN   \n",
      "1237                                      NaN       X   \n",
      "1250                                      NaN       X   \n",
      "1251                                      NaN       X   \n",
      "\n",
      "                                    memo_text form_tp  file_num  \\\n",
      "57                       *BEST EFFORTS UPDATE   SA17A   1091718   \n",
      "90                       *BEST EFFORTS UPDATE   SA17A   1091718   \n",
      "91                       *BEST EFFORTS UPDATE   SA17A   1091718   \n",
      "174                                       NaN   SA17A   1077664   \n",
      "175                                       NaN   SA17A   1077664   \n",
      "197                      *BEST EFFORTS UPDATE   SA17A   1091718   \n",
      "433                    * HILLARY VICTORY FUND    SA18   1091718   \n",
      "676                      *BEST EFFORTS UPDATE   SA17A   1091718   \n",
      "740                      *BEST EFFORTS UPDATE   SA17A   1091718   \n",
      "743                    * HILLARY VICTORY FUND    SA18   1091718   \n",
      "886                      *BEST EFFORTS UPDATE   SA17A   1091718   \n",
      "1050                   * HILLARY VICTORY FUND    SA18   1091718   \n",
      "1090                     *BEST EFFORTS UPDATE   SA17A   1091718   \n",
      "1097                   * HILLARY VICTORY FUND    SA18   1091718   \n",
      "1159                   * HILLARY VICTORY FUND    SA18   1091718   \n",
      "1178                     *BEST EFFORTS UPDATE   SA17A   1091718   \n",
      "1227  REATTRIBUTION / REDESIGNATION REQUESTED   SA17A   1077664   \n",
      "1237                   * HILLARY VICTORY FUND    SA18   1091718   \n",
      "1250                     *BEST EFFORTS UPDATE   SA17A   1091718   \n",
      "1251                     *BEST EFFORTS UPDATE   SA17A   1091718   \n",
      "\n",
      "            tran_id election_tp  \n",
      "57         C3913687       P2016  \n",
      "90         C3925472       P2016  \n",
      "91         C3937968       P2016  \n",
      "174   SA17A.1645838       P2016  \n",
      "175   SA17A.1627230       P2016  \n",
      "197        C3902282       P2016  \n",
      "433        C4782054       P2016  \n",
      "676        C3933167       P2016  \n",
      "740        C3944741       P2016  \n",
      "743        C4672944       P2016  \n",
      "886        C3930377       P2016  \n",
      "1050       C4678268       P2016  \n",
      "1090       C3919294       P2016  \n",
      "1097       C4685384       P2016  \n",
      "1159       C4737565       P2016  \n",
      "1178       C3888552       P2016  \n",
      "1227  SA17A.1742555       P2016  \n",
      "1237       C4676306       P2016  \n",
      "1250       C3876132       P2016  \n",
      "1251       C3898117       P2016  \n"
     ]
    }
   ],
   "source": [
    "# 1i YOUR CODE HERE\n",
    "print(contrib['tran_id'].is_unique)\n",
    "replicated_tran_id = contrib[contrib.duplicated(subset='tran_id', keep=False)]\n",
    "print(len(replicated_tran_id))\n",
    "print(replicated_tran_id.head(20))\n",
    "#print(contrib[contrib['tran_id']=='SA17.770299'])\n",
    "#print(contrib[contrib['tran_id']=='SA17.771839'])\n",
    "#print(contrib[contrib['tran_id']=='SA17.757766'])\n",
    "#print(replicated_tran_id['tran_id'].describe())"
   ]
  },
  {
   "attachments": {},
   "cell_type": "markdown",
   "metadata": {},
   "source": [
    "- **1i answer here:** \n",
    "There are nearly 7000 records with replicated values of tran_id.  At first glance this is unexpected, but after more closely reviewing the documentation, it appears that the file_num in combination with the tran_id uniquely identify a given transaction.  Clearly the tran_id alone is not a suitable unique identifier for each row."
   ]
  },
  {
   "cell_type": "markdown",
   "metadata": {},
   "source": [
    "**1j.** Another column to check is the `contb_receipt_amt` that shows the donation amounts. How many negative donations are included? What do negative donations mean? Please show at least pull a few rows to look at the records with negative donations. Do these records match with the expectation of why a negative donation would happen? (5 points)"
   ]
  },
  {
   "cell_type": "code",
   "execution_count": 11,
   "metadata": {},
   "outputs": [
    {
     "name": "stdout",
     "output_type": "stream",
     "text": [
      "11896\n",
      "['REDESIGNATION TO GENERAL' nan '* HILLARY VICTORY FUND'\n",
      " 'REATTRIBUTION TO SPOUSE' 'CHARGED BACK'\n",
      " 'REDESIGNATION TO PRESIDENTIAL GENERAL' 'TRANSFER FROM RUBIO VICTORY'\n",
      " '2016 SENATE PRIMARY DONOR REDESIGNATION TO GENERAL'\n",
      " 'REDESIGNATION FROM PRIMARY' 'US CITIZEN REDESIGNATION TO GENERAL'\n",
      " 'REDESIGNATION TO CRUZ FOR SENATE' '* REATTRIBUTED TO JOHN CASTOR'\n",
      " 'NSF/RETURNED CHECK' '* REATTRIBUTED TO FRANK DARABONT'\n",
      " 'REFUND TO BE ISSUED; REDESIGNATION TO GENERAL'\n",
      " 'REFUND TO BE ISSUED; CHARGED BACK'\n",
      " 'REATTRIBUTION TO SPOUSE; SEE REDESIGNATION' 'CHECK RETURNED BY BANK'\n",
      " 'OVERPAYMENT' '*BEST EFFORTS UPDATE'\n",
      " '* REATTRIBUTED TO CHRISTINE MARSHALL'\n",
      " '* REATTRIBUTED TO CAROL FITZMORRIS' '* REATTRIBUTED TO ERIC UHRANE'\n",
      " '* REATTRIBUTED TO YEU-WEI YEE' '* REATTRIBUTED TO NORAH STONE'\n",
      " '* REATTRIBUTED FROM KIM RIDDER' 'INSUFFICIENT FUNDS'\n",
      " 'REDESIGNATION TO PRIMARY' 'REATTRIBUTION TO SPOUSE, TERRIE SCHULTZ.'\n",
      " '* HILLARY ACTION FUND' 'VOIDED 9/16/16' '2016 SENATE GENERAL'\n",
      " '* REATTRIBUTION TO SPOUSE, TERRIE SCHULTZ.' 'REISSUED ON 6/21'\n",
      " 'CHARGEBACK REVERSAL' 'REATTRIBUTION TO SPOUSE, HARRY HICKS.'\n",
      " 'REATTRIBUTION/REDESIGNATION REQUESTED REDESIGNATION TO GENERAL'\n",
      " '* REATTRIBUTED TO ELIZABETH DOYLE' '* REATTRIBUTED TO PRUDENCE MOORE'\n",
      " '* REATTRIBUTED TO AISHA LYNCH' '* REATTRIBUTED TO SHEILA NEWBERRY'\n",
      " '* REATTRIBUTED TO JESSIKA CROIZAT' '* REATTRIBUTED TO JUDITH HAYNIE']\n"
     ]
    }
   ],
   "source": [
    "# 1j YOUR CODE HERE\n",
    "print(len(contrib[ contrib['contb_receipt_amt'] < 0 ]))\n",
    "#print(contrib[ contrib['contb_receipt_amt'] < 0 ].head(5))\n",
    "negative_contributions = contrib.loc[ contrib['contb_receipt_amt'] < 0 ]\n",
    "print(negative_contributions['memo_text'].unique())"
   ]
  },
  {
   "attachments": {},
   "cell_type": "markdown",
   "metadata": {},
   "source": [
    "- **1j answer here:**\n",
    "There are 11896 rows with negative donation amounts.  Negative transactions are attributable to several reasons, including redesignation from a primary campaign to a general campaign, refund to the contributor, and reattribution to another candidate or committee."
   ]
  },
  {
   "cell_type": "markdown",
   "metadata": {},
   "source": [
    "**1k.** One more column to look at is the date of donation column. Are there any dates outside of the primary period (defined as 1 Jan 2014 to 7 June 2016)? Are the dates well-formatted for our analysis? (5 points)"
   ]
  },
  {
   "cell_type": "code",
   "execution_count": 12,
   "metadata": {},
   "outputs": [
    {
     "name": "stdout",
     "output_type": "stream",
     "text": [
      "count                          1125659\n",
      "mean     2016-05-03 12:17:40.562745856\n",
      "min                2013-11-05 00:00:00\n",
      "25%                2016-02-29 00:00:00\n",
      "50%                2016-05-03 00:00:00\n",
      "75%                2016-08-01 00:00:00\n",
      "max                2016-10-19 00:00:00\n",
      "Name: contb_receipt_dt, dtype: object\n",
      "0.4009846676480177\n"
     ]
    }
   ],
   "source": [
    "# 1k YOUR CODE HERE\n",
    "print(contrib['contb_receipt_dt'].describe(datetime_is_numeric=True))\n",
    "#print(contrib['contb_receipt_dt'].info())\n",
    "#print(contrib['contb_receipt_dt'].tail(10))\n",
    "primary_begin_date = pd.to_datetime('2014-01-01')\n",
    "primary_end_date = pd.to_datetime('2016-06-07')\n",
    "invalid_date_pct = len(contrib[ (contrib['contb_receipt_dt'] < primary_begin_date) | (contrib['contb_receipt_dt'] > primary_end_date) ]) / len(contrib) \n",
    "print(invalid_date_pct)"
   ]
  },
  {
   "attachments": {},
   "cell_type": "markdown",
   "metadata": {},
   "source": [
    "- **1k answer here:**\n",
    "Yes, about 40% of the rows correspond to donations made before or after the valid 2016 primary dates.  The dates do seem to be consistently formatted for analysis."
   ]
  },
  {
   "cell_type": "markdown",
   "metadata": {
    "collapsed": true,
    "deletable": false,
    "nbgrader": {
     "checksum": "bffd2778d22127102347386bfb6f5b20",
     "grade": true,
     "grade_id": "cell-4ad1da24176f0450",
     "locked": false,
     "points": 0,
     "schema_version": 1,
     "solution": true
    }
   },
   "source": [
    "**1l.** Finally, answer the initial questions in the cells below (5 points)"
   ]
  },
  {
   "attachments": {},
   "cell_type": "markdown",
   "metadata": {},
   "source": [
    "**1l.1** Do we have the correct # of columns and rows.\n",
    "\n",
    "- **1l.1 answer here:**\n",
    "The original dataset has the correct number of rows and columns.  However we will need to filter the dataset appropriately prior to our analysis, since we are interested in a particular subset of the data."
   ]
  },
  {
   "attachments": {},
   "cell_type": "markdown",
   "metadata": {},
   "source": [
    "**1l.2** Do the records contain data for the questions we want to answer?\n",
    "\n",
    "- **1l.2 answer here:**\n",
    "Yes, the dataset should be suitable to answer the questions."
   ]
  },
  {
   "attachments": {},
   "cell_type": "markdown",
   "metadata": {},
   "source": [
    "**1l.3** What columns are important?\n",
    "\n",
    "- **1l.3 answer here:** \n",
    "The most important columns are:  cand_nm, contbr_zip, contb_receipt_amt, contb_receipt_dt.  "
   ]
  },
  {
   "attachments": {},
   "cell_type": "markdown",
   "metadata": {},
   "source": [
    "**1l.4** What columns can be dropped?\n",
    "\n",
    "- **1l.4 answer here:** \n",
    "We can immediately drop the columns with significant null values:  contb_employer, receipt_desc, memo_cd, memo_text.  For the final analysis, given its limited objectives, we can perform all of the data subsetting and eventually drop all but the 4 columns above."
   ]
  },
  {
   "attachments": {},
   "cell_type": "markdown",
   "metadata": {},
   "source": [
    "**1l.5** What are the data problems?\n",
    "\n",
    "- **1l.5 answer here:**\n",
    "The zipcodes are not formatted as integers and contain null values, so that column will need to be treated accordingly since one of our primary questions relates to zip code.  We will also need to create a new column that extracts the day of the month from the contribution date, as that will be required to answer the other question."
   ]
  },
  {
   "attachments": {},
   "cell_type": "markdown",
   "metadata": {},
   "source": [
    "**1l.6** List any assumptions so far:\n",
    "\n",
    "- **1l.6 answer here:**\n",
    "We will assume the form_tp, file_num, and tran_id data are compliant with regulatory requirements, and requires no additional validations.\n",
    "We will assume all contributions, regardless of the details (eg. as captured in the memo_text field) are valid for our analysis."
   ]
  },
  {
   "cell_type": "markdown",
   "metadata": {
    "collapsed": true,
    "deletable": false,
    "nbgrader": {
     "checksum": "14c2855e3d59f0da6b1afd5cf0da2da8",
     "grade": true,
     "grade_id": "cell-fd840cdd19d2bd2a",
     "locked": false,
     "points": 0,
     "schema_version": 1,
     "solution": true
    }
   },
   "source": [
    "***\n",
    "## 2. Data filtering and data quality fixes (30 points)\n",
    "\n",
    "Now that we have a basic understanding of the data, let's filter out the records we don't need and fix the data."
   ]
  },
  {
   "cell_type": "markdown",
   "metadata": {},
   "source": [
    "**2a.** From the dataset filter out (remove) any election_tp not in the primary election. Print/show the shape of the dataframe after the filtering is complete. (5 points)"
   ]
  },
  {
   "cell_type": "code",
   "execution_count": 13,
   "metadata": {
    "deletable": false,
    "nbgrader": {
     "checksum": "43ce3d15cee7ab73f53fd8f054c9826c",
     "grade": true,
     "grade_id": "cell-dce8d3107c1463ca",
     "locked": false,
     "points": 0,
     "schema_version": 1,
     "solution": true
    }
   },
   "outputs": [
    {
     "name": "stdout",
     "output_type": "stream",
     "text": [
      "(810481, 18)\n"
     ]
    }
   ],
   "source": [
    "# 2a YOUR CODE HERE\n",
    "contrib_subset = contrib[ contrib['election_tp'] == 'P2016' ].copy()\n",
    "#print(contrib_subset.head())\n",
    "print(contrib_subset.shape)"
   ]
  },
  {
   "cell_type": "markdown",
   "metadata": {
    "deletable": false,
    "nbgrader": {
     "checksum": "a5f4e6df0f32e24c492a9589ec87fef6",
     "grade": true,
     "grade_id": "cell-9e3f68b21dac8e10",
     "locked": false,
     "points": 0,
     "schema_version": 1,
     "solution": true
    }
   },
   "source": [
    "**2b.** From the dataset filter out (remove) any candidate that is not Bernie Sanders. Print/show the shape of the dataframe after the filtering is complete. (5 points)"
   ]
  },
  {
   "cell_type": "code",
   "execution_count": 14,
   "metadata": {
    "deletable": false,
    "nbgrader": {
     "checksum": "4f1a9e7ee0ded9d2b5af5777cb85e505",
     "grade": true,
     "grade_id": "cell-c14fbed9d72d54e3",
     "locked": false,
     "points": 0,
     "schema_version": 1,
     "solution": true
    }
   },
   "outputs": [
    {
     "name": "stdout",
     "output_type": "stream",
     "text": [
      "(407171, 18)\n"
     ]
    }
   ],
   "source": [
    "# 2b YOUR CODE HERE\n",
    "#print(contrib_subset['cand_nm'].head(100))\n",
    "contrib_subset = contrib_subset [ contrib_subset['cand_nm'] == 'Sanders, Bernard' ].copy().reset_index(drop=True)\n",
    "#print(contrib_subset.head())\n",
    "print(contrib_subset.shape)"
   ]
  },
  {
   "cell_type": "markdown",
   "metadata": {},
   "source": [
    "**2c.** The `contbr_zip` column is not formatted well for our analysis. Make a new zipcode column that is the five-digit zipcodes. Filter out any records outside of California based on the zipcode. Print/show the shape of the dataframe after the filtering is complete. (10 points).\n",
    "\n",
    "- You will have to research what the valid 5-digit zipcodes for California are!"
   ]
  },
  {
   "cell_type": "code",
   "execution_count": 15,
   "metadata": {},
   "outputs": [
    {
     "name": "stdout",
     "output_type": "stream",
     "text": [
      "(407167, 18)\n"
     ]
    }
   ],
   "source": [
    "# 2c YOUR CODE HERE\n",
    "# according to wikipedia, California is assigned ZIP codes ranging from 900-961\n",
    "# ref: https://en.wikipedia.org/wiki/ZIP_Code\n",
    "contrib_subset['contbr_zip'] = contrib_subset['contbr_zip'].astype(str).str.replace(',','').replace('.','').str[:5]\n",
    "contrib_subset = contrib_subset[ contrib_subset['contbr_zip'].map(len) == 5]\n",
    "contrib_subset['contbr_zip'] = contrib_subset['contbr_zip'].apply(pd.to_numeric, errors='coerce').fillna(0.0).astype(int)\n",
    "contrib_subset = contrib_subset [ (contrib_subset['contbr_zip'] >= 90000) | (contrib_subset['contbr_zip'] <= 96199) ].reset_index(drop=True)\n",
    "print(contrib_subset.shape)"
   ]
  },
  {
   "cell_type": "markdown",
   "metadata": {},
   "source": [
    "**2d.** The receipt amount column has negative donations. After talking with your team, a decision was made that the best course of action is to remove these negative values so that the donation count and amount is more accurate. Print/show the shape of the dataframe after the filtering is complete. (5 points)"
   ]
  },
  {
   "cell_type": "code",
   "execution_count": 16,
   "metadata": {},
   "outputs": [
    {
     "name": "stdout",
     "output_type": "stream",
     "text": [
      "(404078, 18)\n"
     ]
    }
   ],
   "source": [
    "# 2d YOUR CODE HERE\n",
    "contrib_subset = contrib_subset [ contrib_subset['contb_receipt_amt'] > 0 ].reset_index(drop=True)\n",
    "print(contrib_subset.shape)"
   ]
  },
  {
   "cell_type": "markdown",
   "metadata": {},
   "source": [
    "**2e.** From the dataset drop any columns that won't be used in the analysis. Print/show the shape of the dataframe after the dropping is complete. What columns did you drop and why? (5 points)"
   ]
  },
  {
   "cell_type": "code",
   "execution_count": 17,
   "metadata": {},
   "outputs": [
    {
     "name": "stdout",
     "output_type": "stream",
     "text": [
      "            cand_nm  contbr_zip  contb_receipt_amt contb_receipt_dt\n",
      "0  Sanders, Bernard       93011              40.00       2016-03-04\n",
      "1  Sanders, Bernard       90278              35.00       2016-03-05\n",
      "2  Sanders, Bernard       90278             100.00       2016-03-06\n",
      "3  Sanders, Bernard       92084              25.00       2016-03-04\n",
      "4  Sanders, Bernard       92683              10.00       2016-03-05\n",
      "(404078, 4)\n"
     ]
    }
   ],
   "source": [
    "# 2e YOUR CODE HERE\n",
    "relevant_cols = ['cand_nm','contbr_zip','contb_receipt_amt','contb_receipt_dt']\n",
    "contrib_subset = contrib_subset[ contrib_subset.columns.intersection(relevant_cols) ]\n",
    "print(contrib_subset.head())\n",
    "print(contrib_subset.shape)"
   ]
  },
  {
   "cell_type": "markdown",
   "metadata": {},
   "source": [
    "- **2e answer here:**"
   ]
  },
  {
   "cell_type": "markdown",
   "metadata": {},
   "source": [
    "**2f.** List any assumptions that you made up to this point:"
   ]
  },
  {
   "attachments": {},
   "cell_type": "markdown",
   "metadata": {},
   "source": [
    "- **2f answer here:**\n",
    "We will assume the form_tp, file_num, and tran_id data are compliant with regulatory requirements, and requires no additional validations.\n",
    "We will assume all contributions, regardless of the details (eg. as captured in the memo_text field) are valid for our analysis.\n",
    "We will not consider any rows for which the election_tp is null.\n",
    "We will not consider any rows for which the zip code is null or improperly formatted.\n",
    "We will not consider any rows corresponding to negative contributions."
   ]
  },
  {
   "cell_type": "markdown",
   "metadata": {
    "deletable": false,
    "nbgrader": {
     "checksum": "6dc1481a003cdd752c5edfa9ac400879",
     "grade": true,
     "grade_id": "cell-f7a01ce9c5b10ac7",
     "locked": false,
     "points": 0,
     "schema_version": 1,
     "solution": true
    }
   },
   "source": [
    "***\n",
    "## 3. Answering the questions (20 points)\n",
    "\n",
    "Now that the data is cleaned and filterd - let's answer the two questions from your boss!"
   ]
  },
  {
   "cell_type": "markdown",
   "metadata": {
    "deletable": false,
    "nbgrader": {
     "checksum": "010f5de5f6af4c7f830d1cf7a81bbc0f",
     "grade": true,
     "grade_id": "cell-5617179133b06d0c",
     "locked": false,
     "points": 0,
     "schema_version": 1,
     "solution": true
    }
   },
   "source": [
    "**3a.** Which zipcode had the highest count of contributions and the most dollar amount? (10 points)"
   ]
  },
  {
   "cell_type": "code",
   "execution_count": 18,
   "metadata": {},
   "outputs": [
    {
     "name": "stdout",
     "output_type": "stream",
     "text": [
      "94110    4046\n",
      "94114    3043\n",
      "94117    2884\n",
      "95060    2849\n",
      "94611    2516\n",
      "         ... \n",
      "96023       1\n",
      "92059       1\n",
      "93285       1\n",
      "91614       1\n",
      "92334       1\n",
      "Name: contbr_zip, Length: 1840, dtype: int64\n",
      "zipcode with the highest count of contributions is:   94110\n",
      "contbr_zip\n",
      "94110   294,061.13\n",
      "94114   208,602.37\n",
      "94117   201,545.43\n",
      "94611   150,232.12\n",
      "95060   145,414.63\n",
      "           ...    \n",
      "95703        15.00\n",
      "95233        15.00\n",
      "95701        15.00\n",
      "93483        10.00\n",
      "92365        10.00\n",
      "Name: contb_receipt_amt, Length: 1840, dtype: float64\n",
      "zipcode with the highest overall dollar amount of contributions is:   94110\n"
     ]
    }
   ],
   "source": [
    "# 3a YOUR CODE HERE\n",
    "print(contrib_subset['contbr_zip'].value_counts())\n",
    "zip_highest_count = contrib_subset['contbr_zip'].mode()\n",
    "print('zipcode with the highest count of contributions is:  ',zip_highest_count.values[0])\n",
    "\n",
    "print(contrib_subset.groupby(['contbr_zip'])['contb_receipt_amt'].sum().sort_values(ascending=False))\n",
    "#contrib_subset.loc[contrib_subset['contbr_zip']==94110].contb_receipt_amt.sum()\n",
    "zip_highest_contb = contrib_subset.groupby(['contbr_zip'])['contb_receipt_amt'].sum().sort_values(ascending=False)\n",
    "print('zipcode with the highest overall dollar amount of contributions is:  ',zip_highest_contb.index[0])"
   ]
  },
  {
   "attachments": {},
   "cell_type": "markdown",
   "metadata": {},
   "source": [
    "- **3a answer here:** \n",
    "The zipcode with both the highest number of contributions and the largest overall contribution amount in dollars is 94110."
   ]
  },
  {
   "cell_type": "markdown",
   "metadata": {},
   "source": [
    "**3b.** What day(s) of the month do most people donate? (10 points)"
   ]
  },
  {
   "cell_type": "code",
   "execution_count": 19,
   "metadata": {},
   "outputs": [
    {
     "name": "stdout",
     "output_type": "stream",
     "text": [
      "29    23511\n",
      "30    22903\n",
      "31    19488\n",
      "14    17793\n",
      "8     16774\n",
      "Name: contb_receipt_day_of_month, dtype: int64\n",
      "zipcode with the highest count of contributions is:   29\n"
     ]
    }
   ],
   "source": [
    "# 3b YOUR CODE HERE\n",
    "contrib_subset['contb_receipt_day_of_month'] = contrib_subset['contb_receipt_dt'].astype(str).str.slice(8,10).astype(int)\n",
    "print(contrib_subset['contb_receipt_day_of_month'].value_counts().head())\n",
    "day_of_month_highest_count = contrib_subset['contb_receipt_day_of_month'].mode()\n",
    "print('zipcode with the highest count of contributions is:  ',day_of_month_highest_count.values[0])"
   ]
  },
  {
   "attachments": {},
   "cell_type": "markdown",
   "metadata": {},
   "source": [
    "- **3b answer here:** \n",
    "The 29th of the month seems to have the highest number of contributions.  There is a clear pattern that contributions are highest in the last few days of the month."
   ]
  },
  {
   "cell_type": "markdown",
   "metadata": {},
   "source": [
    "## If you have feedback for this homework, please submit it using the link below:\n",
    "\n",
    "http://goo.gl/forms/74yCiQTf6k"
   ]
  }
 ],
 "metadata": {
  "kernelspec": {
   "display_name": "Python 3",
   "language": "python",
   "name": "python3"
  },
  "language_info": {
   "codemirror_mode": {
    "name": "ipython",
    "version": 3
   },
   "file_extension": ".py",
   "mimetype": "text/x-python",
   "name": "python",
   "nbconvert_exporter": "python",
   "pygments_lexer": "ipython3",
   "version": "3.10.10"
  }
 },
 "nbformat": 4,
 "nbformat_minor": 2
}
